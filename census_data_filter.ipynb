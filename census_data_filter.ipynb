{
 "cells": [
  {
   "cell_type": "code",
   "execution_count": 1,
   "id": "249a525b-f67d-418f-a8ff-cca49f4936da",
   "metadata": {
    "tags": []
   },
   "outputs": [],
   "source": [
    "import pandas as pd"
   ]
  },
  {
   "cell_type": "code",
   "execution_count": 3,
   "id": "8f430017-0b5c-4e99-8c20-ad2829864f57",
   "metadata": {
    "tags": []
   },
   "outputs": [],
   "source": [
    "# Convert excel to csv and txt\n",
    "\n",
    "census_file = pd.read_excel(\"census_local_unit_age.xlsx\")\n",
    "census_file.to_csv('census_local_unit_age.txt', index=False, encoding='utf-8')"
   ]
  },
  {
   "cell_type": "code",
   "execution_count": 4,
   "id": "389db7ed-a919-498a-9e1a-0c98da5f73dc",
   "metadata": {
    "tags": []
   },
   "outputs": [
    {
     "name": "stdout",
     "output_type": "stream",
     "text": [
      "    Table 02: Population by five year age groups, NPHC 2021 Unnamed: 1   \n",
      "0                                                  NaN             NaN  \\\n",
      "1                                                Area              NaN   \n",
      "2                                                  NaN             NaN   \n",
      "3                                                KOSHI             NaN   \n",
      "4                                                  NaN       Taplejung   \n",
      "..                                                 ...             ...   \n",
      "195                                                NaN             NaN   \n",
      "196                                                NaN             NaN   \n",
      "197                                                NaN             NaN   \n",
      "198                                                NaN             NaN   \n",
      "199                                                NaN             NaN   \n",
      "\n",
      "    Unnamed: 2 Unnamed: 3             Unnamed: 4 Unnamed: 5 Unnamed: 6   \n",
      "0          NaN        NaN                    NaN        NaN        NaN  \\\n",
      "1          NaN      Wards  Five Years Age Groups      Total       Male   \n",
      "2          NaN        NaN                    NaN        NaN        NaN   \n",
      "3          NaN        NaN                    NaN        NaN        NaN   \n",
      "4          NaN        NaN                    NaN        NaN        NaN   \n",
      "..         ...        ...                    ...        ...        ...   \n",
      "195        NaN        NaN             45-49 Yrs.        335        170   \n",
      "196        NaN        NaN             50-54 Yrs.        389        194   \n",
      "197        NaN        NaN             55-59 Yrs.        331        165   \n",
      "198        NaN        NaN             60-64 Yrs.        273        147   \n",
      "199        NaN        NaN             65-69 Yrs.        237        116   \n",
      "\n",
      "    Unnamed: 7  \n",
      "0          NaN  \n",
      "1       Female  \n",
      "2          NaN  \n",
      "3          NaN  \n",
      "4          NaN  \n",
      "..         ...  \n",
      "195        165  \n",
      "196        195  \n",
      "197        166  \n",
      "198        126  \n",
      "199        121  \n",
      "\n",
      "[200 rows x 8 columns]\n"
     ]
    }
   ],
   "source": [
    "data = pd.read_csv('census_local_unit_age.txt')\n",
    "print(data.head(200))"
   ]
  },
  {
   "cell_type": "code",
   "execution_count": null,
   "id": "7de33d81-24e1-42f1-b7bb-93ced8473641",
   "metadata": {},
   "outputs": [],
   "source": []
  },
  {
   "cell_type": "code",
   "execution_count": 32,
   "id": "de472de6-bafd-432b-954f-2eb560684924",
   "metadata": {
    "tags": []
   },
   "outputs": [],
   "source": [
    "import re\n",
    "import csv\n",
    "\n",
    "with open('census_local_unit_age.txt') as file, open('output_filtered.csv', 'w') as out_file:\n",
    "    out_header_row = ['province','district', 'municipality', 'ward', 'gender', 'all_ages', '00-04','05-09','10-14','15-19','20-24','25-29',\n",
    "                      '30-34','35-39','40-44','45-49','50-54','55-59','60-64','65-69','70-74','75-79','80-84','85-89','90-94','95+']\n",
    "    writer = csv.writer(out_file)\n",
    "    writer.writerow(out_header_row)\n",
    "    \n",
    "    \n",
    "    province = \"Koshi\"        \n",
    "    district = \"\"\n",
    "    municipality = \"\"\n",
    "    ward = \"\"\n",
    "\n",
    "    total = []\n",
    "    male = []\n",
    "    female = []\n",
    "    for index, line in enumerate(file):\n",
    "        # print(index)\n",
    "        \n",
    "        if index <= 4:\n",
    "            continue\n",
    "        if line[1] != \",\":\n",
    "            district = line.replace(\",\", \"\").replace(\"\\n\", \"\")\n",
    "        if line[2] != \",\" and line[1] == \",\":\n",
    "            previous_mun = municipality\n",
    "            municipality = line.replace(\",\", \"\").replace(\"\\n\", \"\")\n",
    "            \n",
    "        if line[3] != \",\" and line[2] == \",\":   \n",
    "            temp_ward = line.replace(\",\",\"\").replace(\"\\n\", \"\")\n",
    "            out_mun = \"\"\n",
    "            if len(total)>0:                \n",
    "                if \"All\" in temp_ward:\n",
    "                    out_mun = previous_mun\n",
    "                elif \"All\" not in temp_ward:\n",
    "                    out_mun = municipality\n",
    "                    # write to the row                \n",
    "                total_row = [province, district, out_mun, ward, 'all'] + total\n",
    "                # print(total_row)\n",
    "                male_row = [province, district, out_mun, ward, 'male' ] + male\n",
    "                female_row = [province, district, out_mun, ward, 'female'] + female\n",
    "                writer.writerow(total_row)\n",
    "                writer.writerow(male_row)\n",
    "                writer.writerow(female_row)\n",
    "                # print(female_row)\n",
    "                total.clear()\n",
    "                male.clear()\n",
    "                female.clear()               \n",
    "            ward = line.replace(\",\",\"\").replace(\"\\n\", \"\")\n",
    "            \n",
    "        \n",
    "        if line[4] != \",\" and line[3] == \",\":\n",
    "            line_temp = line[4:]\n",
    "            line_data_list = line_temp.split(\",\")\n",
    "            # print(line_data_list)\n",
    "            total.append(line_data_list[1])\n",
    "            male.append(line_data_list[2])\n",
    "            female_temp_data = line_data_list[3].replace(\"\\n\", \"\")\n",
    "            female.append(female_temp_data)\n",
    "    "
   ]
  }
 ],
 "metadata": {
  "kernelspec": {
   "display_name": "Python 3 (ipykernel)",
   "language": "python",
   "name": "python3"
  },
  "language_info": {
   "codemirror_mode": {
    "name": "ipython",
    "version": 3
   },
   "file_extension": ".py",
   "mimetype": "text/x-python",
   "name": "python",
   "nbconvert_exporter": "python",
   "pygments_lexer": "ipython3",
   "version": "3.11.3"
  }
 },
 "nbformat": 4,
 "nbformat_minor": 5
}
