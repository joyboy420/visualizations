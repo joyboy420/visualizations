{
 "cells": [
  {
   "cell_type": "markdown",
   "id": "a9de87ed-7361-4aa3-bcff-73f1599fde2a",
   "metadata": {},
   "source": [
    "# Filter the census data in required format.\n",
    "The format is in csv and headers like this ->  \n",
    "'province','district', 'municipality', 'ward', 'gender', 'all_ages', '00-04','05-09','10-14','15-19','20-24','25-29',\n",
    "                      '30-34','35-39','40-44','45-49','50-54','55-59','60-64','65-69','70-74','75-79','80-84','85-89','90-94','95+'"
   ]
  },
  {
   "cell_type": "code",
   "execution_count": 5,
   "id": "249a525b-f67d-418f-a8ff-cca49f4936da",
   "metadata": {
    "tags": []
   },
   "outputs": [],
   "source": [
    "# import the required libraries\n",
    "import pandas as pd\n",
    "import geopandas as gpd"
   ]
  },
  {
   "cell_type": "code",
   "execution_count": 6,
   "id": "d4d609c7-4d71-4f3e-8a3a-f853f23ae3b9",
   "metadata": {
    "tags": []
   },
   "outputs": [],
   "source": [
    "# Load shape file from folder and see the head\n",
    "# nepal = gpd.read_file('./shp-local-units/LocalUnit753_Ward_WGS84.shp')\n",
    "# print(nepal.head(10))\n",
    "# nepal.plot()\n",
    "# plt.show()"
   ]
  },
  {
   "cell_type": "code",
   "execution_count": 7,
   "id": "8f430017-0b5c-4e99-8c20-ad2829864f57",
   "metadata": {
    "tags": []
   },
   "outputs": [],
   "source": [
    "# Convert excel to csv and txt\n",
    "\n",
    "census_file = pd.read_excel(\"census_local_unit_age.xlsx\")\n",
    "census_file.to_csv('census_local_unit_age.txt', index=False, encoding='utf-8')"
   ]
  },
  {
   "cell_type": "code",
   "execution_count": 8,
   "id": "389db7ed-a919-498a-9e1a-0c98da5f73dc",
   "metadata": {
    "tags": []
   },
   "outputs": [
    {
     "name": "stdout",
     "output_type": "stream",
     "text": [
      "   Table 02: Population by five year age groups, NPHC 2021 Unnamed: 1   \n",
      "0                                                 NaN             NaN  \\\n",
      "1                                               Area              NaN   \n",
      "2                                                 NaN             NaN   \n",
      "3                                               KOSHI             NaN   \n",
      "4                                                 NaN       Taplejung   \n",
      "..                                                ...             ...   \n",
      "95                                                NaN             NaN   \n",
      "96                                                NaN             NaN   \n",
      "97                                                NaN             NaN   \n",
      "98                                                NaN             NaN   \n",
      "99                                                NaN             NaN   \n",
      "\n",
      "   Unnamed: 2 Unnamed: 3             Unnamed: 4 Unnamed: 5 Unnamed: 6   \n",
      "0         NaN        NaN                    NaN        NaN        NaN  \\\n",
      "1         NaN      Wards  Five Years Age Groups      Total       Male   \n",
      "2         NaN        NaN                    NaN        NaN        NaN   \n",
      "3         NaN        NaN                    NaN        NaN        NaN   \n",
      "4         NaN        NaN                    NaN        NaN        NaN   \n",
      "..        ...        ...                    ...        ...        ...   \n",
      "95        NaN        NaN               All Ages       2020       1025   \n",
      "96        NaN        NaN             00-04 Yrs.        151         82   \n",
      "97        NaN        NaN             05-09 Yrs.        216        101   \n",
      "98        NaN        NaN             10-14 Yrs.        229        106   \n",
      "99        NaN        NaN             15-19 Yrs.        238        116   \n",
      "\n",
      "   Unnamed: 7  \n",
      "0         NaN  \n",
      "1      Female  \n",
      "2         NaN  \n",
      "3         NaN  \n",
      "4         NaN  \n",
      "..        ...  \n",
      "95        995  \n",
      "96         69  \n",
      "97        115  \n",
      "98        123  \n",
      "99        122  \n",
      "\n",
      "[100 rows x 8 columns]\n"
     ]
    }
   ],
   "source": [
    "# Read the converted file\n",
    "data = pd.read_csv('census_local_unit_age.txt')\n",
    "print(data.head(100))"
   ]
  },
  {
   "cell_type": "markdown",
   "id": "44a44358-9ea2-4565-8aac-d4583f967e87",
   "metadata": {},
   "source": [
    "The logic behind the preparing of the data is number of commas(i.e. Column for each data) in each line  \n",
    "For example if line has 1 comma before any readable string, it has district name  \n",
    "if line has 2 comma, it has district name.  \n",
    "Create array for total, male and female and collect the values until another ward is reached, when another ward is reached, copy the values into the output file and clear the array values.  \n",
    "In this way, data is made in the new format"
   ]
  },
  {
   "cell_type": "code",
   "execution_count": 32,
   "id": "de472de6-bafd-432b-954f-2eb560684924",
   "metadata": {
    "tags": []
   },
   "outputs": [],
   "source": [
    "import re\n",
    "import csv\n",
    "\n",
    "# Open converted txt file to process and output_filtered file in which we are going to write into\n",
    "with open('census_local_unit_age.txt') as file, open('output_filtered.csv', 'w') as out_file:\n",
    "    # create the row for header and write into the output file\n",
    "    out_header_row = ['province','district', 'municipality', 'ward', 'gender', 'all_ages', '00-04','05-09','10-14','15-19','20-24','25-29',\n",
    "                      '30-34','35-39','40-44','45-49','50-54','55-59','60-64','65-69','70-74','75-79','80-84','85-89','90-94','95+']\n",
    "    writer = csv.writer(out_file)\n",
    "    writer.writerow(out_header_row)\n",
    "    \n",
    "    \n",
    "    province = \"Koshi\"        \n",
    "    district = \"\"\n",
    "    municipality = \"\"\n",
    "    ward = \"\"\n",
    "\n",
    "    total = []\n",
    "    male = []\n",
    "    female = []\n",
    "    for index, line in enumerate(file):\n",
    "        # print(index)\n",
    "        \n",
    "        if index <= 4:\n",
    "            continue\n",
    "        if line[1] != \",\":\n",
    "            district = line.replace(\",\", \"\").replace(\"\\n\", \"\")\n",
    "        if line[2] != \",\" and line[1] == \",\":\n",
    "            previous_mun = municipality\n",
    "            municipality = line.replace(\",\", \"\").replace(\"\\n\", \"\")\n",
    "            \n",
    "        if line[3] != \",\" and line[2] == \",\":   \n",
    "            temp_ward = line.replace(\",\",\"\").replace(\"\\n\", \"\")\n",
    "            out_mun = \"\"\n",
    "            if len(total)>0:                \n",
    "                if \"All\" in temp_ward:\n",
    "                    out_mun = previous_mun\n",
    "                elif \"All\" not in temp_ward:\n",
    "                    out_mun = municipality\n",
    "                    # write to the row                \n",
    "                total_row = [province, district, out_mun, ward, 'all'] + total\n",
    "                # print(total_row)\n",
    "                male_row = [province, district, out_mun, ward, 'male' ] + male\n",
    "                female_row = [province, district, out_mun, ward, 'female'] + female\n",
    "                writer.writerow(total_row)\n",
    "                writer.writerow(male_row)\n",
    "                writer.writerow(female_row)\n",
    "                # print(female_row)\n",
    "                total.clear()\n",
    "                male.clear()\n",
    "                female.clear()               \n",
    "            ward = line.replace(\",\",\"\").replace(\"\\n\", \"\")\n",
    "            \n",
    "        \n",
    "        if line[4] != \",\" and line[3] == \",\":\n",
    "            line_temp = line[4:]\n",
    "            line_data_list = line_temp.split(\",\")\n",
    "            # print(line_data_list)\n",
    "            total.append(line_data_list[1])\n",
    "            male.append(line_data_list[2])\n",
    "            female_temp_data = line_data_list[3].replace(\"\\n\", \"\")\n",
    "            female.append(female_temp_data)\n",
    "    "
   ]
  },
  {
   "cell_type": "code",
   "execution_count": null,
   "id": "52eab6a3-1f7a-458f-aa99-1a6939867660",
   "metadata": {},
   "outputs": [],
   "source": [
    "import pandas as pd\n",
    "import geopandas as gpd\n",
    "import matplotlib.pyplot as plt\n",
    "\n",
    "df = pd.read_csv('output_filtered.csv')   # Read csv\n",
    "nepal_shp = gpd.read_file('./shp-local-units/LocalUnit753_Ward_WGS84.shp')   # Read shp\n",
    "merged = nepal_shp.merge(df, on='') # Merge two data according to the key attribute here i.e. dist_name\n",
    "fig, ax = plt.subplots(figsize=(20, 10)) # Configure the zoom of the plotting\n",
    "merged.plot(column='Total', cmap='Blues', legend=True, ax=ax) #"
   ]
  }
 ],
 "metadata": {
  "kernelspec": {
   "display_name": "Python 3 (ipykernel)",
   "language": "python",
   "name": "python3"
  },
  "language_info": {
   "codemirror_mode": {
    "name": "ipython",
    "version": 3
   },
   "file_extension": ".py",
   "mimetype": "text/x-python",
   "name": "python",
   "nbconvert_exporter": "python",
   "pygments_lexer": "ipython3",
   "version": "3.11.3"
  }
 },
 "nbformat": 4,
 "nbformat_minor": 5
}
